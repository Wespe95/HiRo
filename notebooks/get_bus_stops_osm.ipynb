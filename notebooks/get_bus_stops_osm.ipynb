{
 "cells": [
  {
   "cell_type": "code",
   "execution_count": null,
   "metadata": {},
   "outputs": [],
   "source": [
    "import requests\n",
    "import json\n",
    "import os\n",
    "import pandas as pd\n",
    "import geopandas as gpd"
   ]
  },
  {
   "cell_type": "code",
   "execution_count": null,
   "metadata": {},
   "outputs": [],
   "source": [
    "def run_overpass_query(ql_query):\n",
    "        \"\"\"Run an overpass query\"\"\"\n",
    "\n",
    "        overpass_url = \"http://overpass-api.de/api/interpreter\"\n",
    "        response = requests.get(overpass_url, params={\"data\": ql_query})\n",
    "        if response.content:\n",
    "            try:\n",
    "                data = response.json()\n",
    "            except:\n",
    "                data = {\"error\": str(response)}\n",
    "        else:\n",
    "            data = {\n",
    "                \"Warning\": \"Received an empty response from Overpass API. Tell the user.\"\n",
    "            }\n",
    "        data_str = json.dumps(data)\n",
    "\n",
    "        return data_str\n",
    "\n",
    "\n",
    "query_bus_stops_berlin = \"\"\"[out:json][timeout:100];\n",
    "area[name=\"Dresden\"]->.searchArea;\n",
    "(\n",
    "nwr(area.searchArea)[\"highway\"=\"bus_stop\"];\n",
    ");\n",
    "out;\"\"\"\n",
    "\n",
    "\n",
    "SAVE_DIRECTORY = \"../../data/raw\"\n",
    "filename = \"bus_stops_dresden.json\"\n",
    "berlin_bus_stops_path = os.path.join(SAVE_DIRECTORY, filename)\n",
    "\n",
    "if not os.path.exists(berlin_bus_stops_path):\n",
    "    data = run_overpass_query(query_bus_stops_berlin)\n",
    "    with open(berlin_bus_stops_path, \"w\") as file:\n",
    "        json.dump(json.loads(data), file)"
   ]
  },
  {
   "cell_type": "code",
   "execution_count": null,
   "metadata": {},
   "outputs": [],
   "source": [
    "def load_osm_result(path):\n",
    "    with open(path, \"r\") as f:\n",
    "        osm_response = json.load(f)\n",
    "\n",
    "    data = []\n",
    "    for element in osm_response[\"elements\"]:\n",
    "        if element[\"type\"] == \"node\" and \"lat\" in element and \"lon\" in element:\n",
    "            properties = element.get(\"tags\", {})\n",
    "            properties.update({\"id\": element[\"id\"], \"lat\": element[\"lat\"], \"lon\": element[\"lon\"]})\n",
    "            data.append(properties)\n",
    "\n",
    "    # Create DataFrame\n",
    "    df = pd.DataFrame(data)\n",
    "\n",
    "    # Create a GeoDataFrame\n",
    "    gdf = gpd.GeoDataFrame(df, geometry=gpd.points_from_xy(df.lon, df.lat))\n",
    "    gdf.set_crs(epsg=4326, inplace=True)# Set the CRS to WGS84 (EPSG:4326)\n",
    "    return gdf\n",
    "\n",
    "berlin_bus_stops_gdf = load_osm_result(berlin_bus_stops_path)\n",
    "\n",
    "berlin_bus_stops_gdf.set_crs(epsg=4326, inplace=True)"
   ]
  }
 ],
 "metadata": {
  "language_info": {
   "name": "python"
  }
 },
 "nbformat": 4,
 "nbformat_minor": 2
}
